{
 "cells": [
  {
   "cell_type": "markdown",
   "metadata": {},
   "source": [
    "Following example is from go blog which illustrates that arguments to deferred functions are evaluated right away and only the execution is pushed to the stack."
   ]
  },
  {
   "cell_type": "code",
   "execution_count": 3,
   "metadata": {},
   "outputs": [],
   "source": [
    "import \"fmt\"\n",
    "func a() {\n",
    "    i := 0\n",
    "    defer fmt.Println(i)\n",
    "    i++\n",
    "    return\n",
    "}"
   ]
  },
  {
   "cell_type": "markdown",
   "metadata": {},
   "source": [
    "Here is one more example further illustrating the same point. Since the argument is evulated first (even if it's a function - functions being first class citizens in golang)"
   ]
  },
  {
   "cell_type": "code",
   "execution_count": 10,
   "metadata": {},
   "outputs": [],
   "source": [
    "import (\n",
    "\t\"fmt\"\n",
    "\t\"strings\"\n",
    "   )\n",
    "   \n",
    "   \n",
    "   func deferredOne(msg string) {\n",
    "\tfmt.Printf(\"deferred -> %s\\n\", msg)\n",
    "   }\n",
    "   \n",
    "   func argToDefer(msg string) string {\n",
    "\tfmt.Println(\"changing to uppercase\")\n",
    "\treturn strings.ToUpper(msg)\n",
    "   }\n"
   ]
  },
  {
   "cell_type": "code",
   "execution_count": 11,
   "metadata": {},
   "outputs": [
    {
     "name": "stdout",
     "output_type": "stream",
     "text": [
      "changing to uppercase\n",
      "deferred -> HELLO DEFERmain\n"
     ]
    },
    {
     "data": {
      "text/plain": [
       "5 <nil>"
      ]
     },
     "execution_count": 11,
     "metadata": {},
     "output_type": "execute_result"
    }
   ],
   "source": [
    "\n",
    "defer deferredOne(argToDefer(\"hello defer\"))\n",
    "fmt.Println(\"main\")"
   ]
  },
  {
   "cell_type": "markdown",
   "metadata": {},
   "source": []
  }
 ],
 "metadata": {
  "kernelspec": {
   "display_name": "Go",
   "language": "go",
   "name": "gophernotes"
  },
  "language_info": {
   "codemirror_mode": "",
   "file_extension": ".go",
   "mimetype": "",
   "name": "go",
   "nbconvert_exporter": "",
   "pygments_lexer": "",
   "version": "go1.21.6"
  }
 },
 "nbformat": 4,
 "nbformat_minor": 2
}
