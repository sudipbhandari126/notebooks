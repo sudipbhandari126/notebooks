{
 "cells": [
  {
   "cell_type": "code",
   "execution_count": 21,
   "id": "92bad1eb-3c44-4994-aaed-1f6d1b36b9c7",
   "metadata": {},
   "outputs": [
    {
     "name": "stdout",
     "output_type": "stream",
     "text": [
      "hi\n"
     ]
    },
    {
     "data": {
      "text/plain": [
       "3 <nil>"
      ]
     },
     "execution_count": 21,
     "metadata": {},
     "output_type": "execute_result"
    }
   ],
   "source": [
    "\n",
    "import \"fmt\"\n",
    "\n",
    "fmt.Println(\"hi\")\n"
   ]
  },
  {
   "cell_type": "code",
   "execution_count": 23,
   "id": "e01b94bb-962f-4512-8946-f6c5b8aed6c1",
   "metadata": {},
   "outputs": [],
   "source": [
    "import \"time\""
   ]
  },
  {
   "cell_type": "code",
   "execution_count": 24,
   "id": "7caadea7-191b-4082-842f-aa81eb4fceb5",
   "metadata": {},
   "outputs": [],
   "source": [
    "time.Sleep(2)"
   ]
  },
  {
   "cell_type": "code",
   "execution_count": 25,
   "id": "21133695-4fb0-40fa-88ce-f887d62992d2",
   "metadata": {},
   "outputs": [],
   "source": [
    "func test(){\n",
    "    fmt.Println(\"inside test\")\n",
    "}"
   ]
  },
  {
   "cell_type": "code",
   "execution_count": 2,
   "id": "ed316272-5077-4791-8ad8-a1a01cfc3417",
   "metadata": {},
   "outputs": [
    {
     "name": "stdout",
     "output_type": "stream",
     "text": [
      "hi\n"
     ]
    }
   ],
   "source": [
    "$echo hi"
   ]
  },
  {
   "cell_type": "code",
   "execution_count": 3,
   "id": "76a943bb-5409-4859-a331-411e4d3e334a",
   "metadata": {},
   "outputs": [
    {
     "name": "stderr",
     "output_type": "stream",
     "text": [
      "hi"
     ]
    }
   ],
   "source": [
    "print(\"hi\")"
   ]
  },
  {
   "cell_type": "code",
   "execution_count": 4,
   "id": "55014455-217a-41d1-ac8f-e7b12f249bdc",
   "metadata": {},
   "outputs": [
    {
     "name": "stdout",
     "output_type": "stream",
     "text": [
      "go version go1.21.6 darwin/amd64\n"
     ]
    }
   ],
   "source": [
    "$ go version"
   ]
  },
  {
   "cell_type": "code",
   "execution_count": 18,
   "id": "dcc34dae",
   "metadata": {},
   "outputs": [
    {
     "name": "stdout",
     "output_type": "stream",
     "text": [
      "hello, worlda\n"
     ]
    },
    {
     "data": {
      "text/plain": [
       "14 <nil>"
      ]
     },
     "execution_count": 18,
     "metadata": {},
     "output_type": "execute_result"
    }
   ],
   "source": [
    "import \"fmt\"\n",
    "var a string\n",
    "var done bool\n",
    "\n",
    "func setup(ch chan bool) {\n",
    "    a = \"hello, worlda\"\n",
    "    ch<-true\n",
    "}\n",
    "\n",
    "\n",
    "\t\n",
    "\tch := make(chan bool)\n",
    "    go setup(ch)\n",
    "    <-ch\n",
    "\n",
    "\tfmt.Println(a)\n",
    "\n"
   ]
  },
  {
   "cell_type": "code",
   "execution_count": null,
   "id": "c4151351",
   "metadata": {},
   "outputs": [],
   "source": []
  }
 ],
 "metadata": {
  "kernelspec": {
   "display_name": "Go",
   "language": "go",
   "name": "gophernotes"
  },
  "language_info": {
   "codemirror_mode": "",
   "file_extension": ".go",
   "mimetype": "",
   "name": "go",
   "nbconvert_exporter": "",
   "pygments_lexer": "",
   "version": "go1.21.6"
  }
 },
 "nbformat": 4,
 "nbformat_minor": 5
}
